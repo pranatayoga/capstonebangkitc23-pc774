{
  "nbformat": 4,
  "nbformat_minor": 0,
  "metadata": {
    "colab": {
      "provenance": []
    },
    "kernelspec": {
      "name": "python3",
      "display_name": "Python 3"
    },
    "language_info": {
      "name": "python"
    }
  },
  "cells": [
    {
      "cell_type": "code",
      "execution_count": null,
      "metadata": {
        "colab": {
          "base_uri": "https://localhost:8080/",
          "height": 564
        },
        "id": "8cbOugejeT6T",
        "outputId": "8ed1b36b-f75e-4880-ac32-694c3b73cb98"
      },
      "outputs": [
        {
          "output_type": "stream",
          "name": "stdout",
          "text": [
            "Drive already mounted at /content/drive; to attempt to forcibly remount, call drive.mount(\"/content/drive\", force_remount=True).\n",
            "Cloning into 'yolov5'...\n",
            "remote: Enumerating objects: 15996, done.\u001b[K\n",
            "remote: Counting objects: 100% (165/165), done.\u001b[K\n",
            "remote: Compressing objects: 100% (96/96), done.\u001b[K\n",
            "remote: Total 15996 (delta 101), reused 111 (delta 69), pack-reused 15831\u001b[K\n",
            "Receiving objects: 100% (15996/15996), 14.64 MiB | 19.19 MiB/s, done.\n",
            "Resolving deltas: 100% (10974/10974), done.\n",
            "/content/yolov5/yolov5/yolov5/yolov5/yolov5/yolov5/yolov5/yolov5/yolov5/yolov5/yolov5/yolov5/yolov5/yolov5/yolov5/yolov5/yolov5/yolov5/yolov5\n"
          ]
        },
        {
          "output_type": "stream",
          "name": "stderr",
          "text": [
            "Using cache found in /root/.cache/torch/hub/ultralytics_yolov5_master\n",
            "YOLOv5 🚀 2023-6-21 Python-3.10.12 torch-2.0.1+cu118 CPU\n",
            "\n",
            "Downloading https://github.com/ultralytics/yolov5/releases/download/v7.0/yolov5s.pt to yolov5s.pt...\n",
            "100%|██████████| 14.1M/14.1M [00:00<00:00, 125MB/s]\n",
            "\n",
            "Fusing layers... \n",
            "YOLOv5s summary: 213 layers, 7225885 parameters, 0 gradients\n",
            "Adding AutoShape... \n"
          ]
        },
        {
          "output_type": "stream",
          "name": "stdout",
          "text": [
            "Failed to load the image. Please check the image path and ensure the file exists.\n"
          ]
        },
        {
          "output_type": "error",
          "ename": "NameError",
          "evalue": "ignored",
          "traceback": [
            "\u001b[0;31m---------------------------------------------------------------------------\u001b[0m",
            "\u001b[0;31mNameError\u001b[0m                                 Traceback (most recent call last)",
            "\u001b[0;32m<ipython-input-29-1bb7a4e0b717>\u001b[0m in \u001b[0;36m<cell line: 37>\u001b[0;34m()\u001b[0m\n\u001b[1;32m     35\u001b[0m     \u001b[0mresults\u001b[0m \u001b[0;34m=\u001b[0m \u001b[0mmodel\u001b[0m\u001b[0;34m(\u001b[0m\u001b[0mimage\u001b[0m\u001b[0;34m)\u001b[0m\u001b[0;34m\u001b[0m\u001b[0;34m\u001b[0m\u001b[0m\n\u001b[1;32m     36\u001b[0m \u001b[0;34m\u001b[0m\u001b[0m\n\u001b[0;32m---> 37\u001b[0;31m \u001b[0mdetections\u001b[0m \u001b[0;34m=\u001b[0m \u001b[0mresults\u001b[0m\u001b[0;34m.\u001b[0m\u001b[0mpandas\u001b[0m\u001b[0;34m(\u001b[0m\u001b[0;34m)\u001b[0m\u001b[0;34m.\u001b[0m\u001b[0mxyxy\u001b[0m\u001b[0;34m[\u001b[0m\u001b[0;36m0\u001b[0m\u001b[0;34m]\u001b[0m  \u001b[0;31m# Get the detections in a pandas DataFrame\u001b[0m\u001b[0;34m\u001b[0m\u001b[0;34m\u001b[0m\u001b[0m\n\u001b[0m\u001b[1;32m     38\u001b[0m \u001b[0;34m\u001b[0m\u001b[0m\n\u001b[1;32m     39\u001b[0m \u001b[0;31m# Filter detections for Oreochromis niloticus fish\u001b[0m\u001b[0;34m\u001b[0m\u001b[0;34m\u001b[0m\u001b[0m\n",
            "\u001b[0;31mNameError\u001b[0m: name 'results' is not defined"
          ]
        }
      ],
      "source": [
        "from google.colab import drive\n",
        "drive.mount('/content/drive')\n",
        "\n",
        "#Clone the YOLO repository\n",
        "!git clone https://github.com/ultralytics/yolov5.git\n",
        "\n",
        "#Change to the yolo directory\n",
        "%cd yolov5\n",
        "\n",
        "#Install dependencies\n",
        "!pip install -qr requirements.txt\n",
        "\n",
        "import torch\n",
        "import cv2\n",
        "import matplotlib.pyplot as plt\n",
        "\n",
        "#Load the YOLO model\n",
        "model = torch.hub.load('ultralytics/yolov5', 'yolov5s')\n",
        "\n",
        "#Define the class labels\n",
        "class_labels = ['Oreochromis niloticus']\n",
        "\n",
        "image_path = '/content/drive/MyDrive/Fish.v1-416x416.yolov5pytorch'\n",
        "image = cv2.imread(image_path)\n",
        "\n",
        "#Check if the image is successfully loaded\n",
        "if image is None:\n",
        "    print(\"Failed to load the image. Please check the image path and ensure the file exists.\")\n",
        "else:\n",
        "    #Convert image to RGB\n",
        "    image = cv2.cvtColor(image, cv2.COLOR_BGR2RGB)\n",
        "    #Perform object detection\n",
        "    results = model(image)\n",
        "\n",
        "detections = results.pandas().xyxy[0]  # Get the detections in a pandas DataFrame\n",
        "\n",
        "#Filter detections for Oreochromis niloticus fish\n",
        "fish_detections = detections[detections['name'] == 'Oreochromis niloticus']\n",
        "\n",
        "#Visualize the detected objects\n",
        "plt.figure(figsize=(10, 10))\n",
        "plt.imshow(image)\n",
        "plt.axis('off')\n",
        "for _, detection in fish_detections.iterrows():\n",
        "    xmin, ymin, xmax, ymax = detection[['xmin', 'ymin', 'xmax', 'ymax']]\n",
        "    label = detection['name']\n",
        "    confidence = detection['confidence']\n",
        "    plt.rectangle(xmin, ymin, xmax, ymax, color='red', linewidth=2)\n",
        "    plt.text(xmin, ymin, f'{label}: {confidence:.2f}', fontsize=10, color='red')\n",
        "plt.show()\n"
      ]
    }
  ]
}